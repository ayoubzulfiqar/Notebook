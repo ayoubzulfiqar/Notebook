{
 "cells": [
  {
   "cell_type": "markdown",
   "metadata": {},
   "source": [
    "# Unsupervised Learning Algorithms"
   ]
  },
  {
   "cell_type": "code",
   "execution_count": 1,
   "metadata": {},
   "outputs": [],
   "source": [
    "import numpy as np\n",
    "import pandas as pd\n",
    "import matplotlib.pyplot as plt\n"
   ]
  },
  {
   "cell_type": "markdown",
   "metadata": {},
   "source": [
    "## Clustering"
   ]
  },
  {
   "cell_type": "markdown",
   "metadata": {},
   "source": [
    "## **K-Means Clustering: Elbow Method for Optimal $ k $**  \n",
    "\n",
    "### **1. What is K-Means Clustering?**  \n",
    "K-Means is a **partition-based clustering algorithm** that groups $ n $ data points into $ k $ clusters by minimizing the **intra-cluster variance**.\n",
    "\n",
    "### **2. Mathematical Explanation**  \n",
    "\n",
    "#### **Objective Function (Minimization of Intra-Cluster Variance)**  \n",
    "For a dataset $ X = \\{x_1, x_2, ..., x_n\\} $, the K-Means algorithm finds $ k $ cluster centroids $ \\mu_1, \\mu_2, ..., \\mu_k $ that minimize the following objective function:\n",
    "\n",
    "$\n",
    "J = \\sum_{i=1}^{n} \\sum_{j=1}^{k} \\mathbb{1}(c_i = j) ||x_i - \\mu_j||^2\n",
    "$\n",
    "\n",
    "where:  \n",
    "- $ c_i $ is the cluster assigned to $ x_i $.  \n",
    "- $ \\mu_j $ is the centroid of cluster $ j $.  \n",
    "- $ ||x_i - \\mu_j||^2 $ is the squared Euclidean distance.\n",
    "\n",
    "### **3. Steps of K-Means Algorithm**  \n",
    "\n",
    "1. **Initialize** $ k $ cluster centroids randomly.  \n",
    "2. **Assign each point** to the nearest centroid using Euclidean distance:  \n",
    "\n",
    "   $\n",
    "   c_i = \\arg\\min_{j} ||x_i - \\mu_j||^2\n",
    "   $\n",
    "\n",
    "3. **Update centroids** by taking the mean of all points in the cluster:  \n",
    "\n",
    "   $\n",
    "   \\mu_j = \\frac{1}{|C_j|} \\sum_{x_i \\in C_j} x_i\n",
    "   $\n",
    "\n",
    "4. **Repeat steps 2 and 3** until convergence (centroids do not change).  \n",
    "\n",
    "---\n",
    "\n",
    "## **4. Choosing the Optimal $ k $ Using the Elbow Method**  \n",
    "\n",
    "The **Elbow Method** determines the optimal $ k $ by analyzing the **Within-Cluster Sum of Squares (WCSS)**:\n",
    "\n",
    "$\n",
    "WCSS(k) = \\sum_{j=1}^{k} \\sum_{x_i \\in C_j} ||x_i - \\mu_j||^2\n",
    "$\n",
    "\n",
    "The goal is to **find the \"elbow point\"** where the WCSS stops decreasing significantly.\n",
    "\n",
    "---\n"
   ]
  },
  {
   "cell_type": "code",
   "execution_count": null,
   "metadata": {},
   "outputs": [],
   "source": [
    "# Generate synthetic data\n",
    "np.random.seed(42)\n",
    "X1 = np.random.randn(100, 2) + np.array([2, 2])\n",
    "X2 = np.random.randn(100, 2) + np.array([-2, -2])\n",
    "X3 = np.random.randn(100, 2) + np.array([2, -2])\n",
    "\n",
    "# Combine data into a DataFrame\n",
    "X = np.vstack([X1, X2, X3])\n",
    "df = pd.DataFrame(X, columns=['Feature1', 'Feature2'])\n"
   ]
  },
  {
   "cell_type": "code",
   "execution_count": null,
   "metadata": {},
   "outputs": [],
   "source": [
    "class KMeans:\n",
    "    def __init__(self, k=3, iterations=100, tolerance=1e-4):\n",
    "        self.k = k\n",
    "        self.iterations = iterations\n",
    "        self.tolerance = tolerance  # Tolerance for convergence\n",
    "        self.centroids = None\n",
    "\n",
    "    def fit(self, X):\n",
    "        # Randomly initialize k centroids\n",
    "        np.random.seed(42)\n",
    "        self.centroids = X[np.random.choice(len(X), self.k, replace=False)]\n",
    "        \n",
    "        for _ in range(self.iterations):\n",
    "            # Assign clusters\n",
    "            labels = self._assignClusters(X)\n",
    "            \n",
    "            # Compute new centroids\n",
    "            newCentroids = np.array([X[labels == j].mean(axis=0) for j in range(self.k)])\n",
    "            \n",
    "            # Check convergence\n",
    "            if np.linalg.norm(self.centroids - newCentroids) < self.tolerance:\n",
    "                break\n",
    "            \n",
    "            self.centroids = newCentroids\n",
    "            \n",
    "        self.labels_ = labels\n",
    "\n",
    "    def _assignClusters(self, X):\n",
    "        # Compute distances to centroids and assign cluster labels\n",
    "        distances = np.linalg.norm(X[:, np.newaxis] - self.centroids, axis=2)\n",
    "        return np.argmin(distances, axis=1)\n",
    "    \n",
    "    def predict(self, X):\n",
    "        return self._assignClusters(X)\n",
    "\n",
    "# Elbow Method to Find Optimal (k)\n",
    "\n",
    "def WCSS(X, maxK=10):\n",
    "    wcss = []\n",
    "    for k in range(1, maxK + 1):\n",
    "        kMeans = KMeans(k=k)\n",
    "        kMeans.fit(X)\n",
    "        wcss.append(sum(np.min(np.linalg.norm(X[:, np.newaxis] - kMeans.centroids, axis=2)**2, axis=1)))\n",
    "    return wcss\n",
    "\n",
    "# Compute WCSS for k = 1 to 10\n",
    "wcssValues = WCSS(X, maxK=10)\n",
    "\n",
    "# Plot Elbow Method\n",
    "plt.plot(range(1, 11), wcssValues, marker='o')\n",
    "plt.xlabel('Number of Clusters (k)')\n",
    "plt.ylabel('WCSS')\n",
    "plt.title('Elbow Method for Optimal k')\n",
    "plt.show()\n"
   ]
  }
 ],
 "metadata": {
  "kernelspec": {
   "display_name": "Python 3",
   "language": "python",
   "name": "python3"
  },
  "language_info": {
   "codemirror_mode": {
    "name": "ipython",
    "version": 3
   },
   "file_extension": ".py",
   "mimetype": "text/x-python",
   "name": "python",
   "nbconvert_exporter": "python",
   "pygments_lexer": "ipython3",
   "version": "3.13.1"
  }
 },
 "nbformat": 4,
 "nbformat_minor": 2
}
