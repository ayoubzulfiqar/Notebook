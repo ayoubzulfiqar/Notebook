{
 "cells": [
  {
   "cell_type": "markdown",
   "metadata": {},
   "source": [
    "# 100 Numpy Exercises\n",
    "\n",
    "[Source]([Source](https://www.w3resource.com/python-exercises/numpy/index.php))"
   ]
  },
  {
   "cell_type": "code",
   "execution_count": 3,
   "metadata": {},
   "outputs": [],
   "source": [
    "import numpy as np\n",
    "import matplotlib.pyplot as plt\n",
    "\n",
    "\n",
    "nonZero = np.array([1,2,3,4,5,6,7,8,9,]) # non-zero\n",
    "withOneZero =np.array([0,1,2,3,4,5,6,7,8,9,]) \n",
    "allZero = np.array([0,0,0,0,0,0,0,0])\n",
    "infiniteArray = np.array([np.inf])\n",
    "nanArray = np.array([np.nan])\n",
    "nanWithInfinity = np.array([np.nan, np.inf])\n",
    "numbersNanWithInfinity = np.array([1,2,2,3,np.nan, np.inf,7,8,])\n",
    "negativeInfinity = np.array([8,-np.inf,-7])\n",
    "x = np.array([72, 79, 85, 90, 150, -135, 120, -10, 60, 100])\n",
    "y = np.array([72, 79, 85, 90, 150, -135, 120, -10, 60, 100.000001])"
   ]
  },
  {
   "cell_type": "code",
   "execution_count": null,
   "metadata": {},
   "outputs": [],
   "source": [
    "# Q. Import and Build Info\n",
    "\n",
    "print(np.__version__,\"\\n\",np.show_config())"
   ]
  },
  {
   "cell_type": "code",
   "execution_count": null,
   "metadata": {},
   "outputs": [],
   "source": [
    "# How to get Help for any function\n",
    "print(np.info(np.add)) # for add function"
   ]
  },
  {
   "cell_type": "code",
   "execution_count": null,
   "metadata": {},
   "outputs": [],
   "source": [
    "# How to test if any of the element in the array are zero\n",
    "# all function check if the element in the array are zero even if one is zeo it will return false otherwise true\n",
    "\n",
    "\n",
    "n = np.array([0,0,0,0,1])\n",
    "print(np.all(n))\n",
    "# if even one array is non- zero is return true\n",
    "print(np.any(n))\n"
   ]
  },
  {
   "cell_type": "code",
   "execution_count": null,
   "metadata": {},
   "outputs": [],
   "source": [
    "# Write a NumPy program to test a given array element-wise for finiteness (not infinity or not a number).\n",
    "\n",
    "## return true for the number which have infinite number\n",
    "print(np.isfinite(numbersNanWithInfinity))\n",
    "# same goes for the nan number\n",
    "print(np.isnan(nanArray))\n"
   ]
  },
  {
   "cell_type": "code",
   "execution_count": null,
   "metadata": {},
   "outputs": [],
   "source": [
    "# Check if the any numbers inside the array are positive infinity otr negative infinity\n",
    "print(np.isposinf(nanWithInfinity))\n",
    "print(np.isneginf(negativeInfinity))"
   ]
  },
  {
   "cell_type": "code",
   "execution_count": null,
   "metadata": {},
   "outputs": [],
   "source": [
    "# Complex Number or real Number or Scalar\n",
    "\n",
    "print(np.iscomplex(nonZero))\n",
    "print(np.isreal(withOneZero))\n",
    "print(np.isscalar(nonZero))"
   ]
  },
  {
   "cell_type": "code",
   "execution_count": null,
   "metadata": {},
   "outputs": [],
   "source": [
    "# Two Equal array with and without tolerance (absolute and relative)\n",
    "print(np.allclose([1,2,3,4,5], [1,2,3,4,5]))\n",
    "print(np.allclose([1e10,1e-7], [1.00001e10,1e-8]))\n",
    "print(np.allclose([1e10,1e-8], [1.00001e10,1e-9]))\n",
    "print(np.allclose([1e10,1e-8], [1.0001e10,1e-9]))\n",
    "print(np.allclose([1.0, np.nan], [1.0, np.nan], equal_nan=True)) "
   ]
  },
  {
   "cell_type": "code",
   "execution_count": null,
   "metadata": {},
   "outputs": [],
   "source": [
    "# Element wise equality (greater or equal or less)\n",
    "\n",
    "# first array in greater than second array based on each element\n",
    "print(np.greater([1,2,3,4], [0,1,2,3]))\n",
    "\n",
    "print(np.greater_equal([-1,2,3,4,5], [0,1,2,3,4]))\n",
    "\n",
    "print(np.less([1,2,3,4],[0,1,2,3]))\n",
    "\n",
    "print(np.less_equal([1,2,3],[0,1,2]))\n",
    "\n",
    "print(np.equal([1,2,3,4,5],[1,2,3,4,5]))\n"
   ]
  },
  {
   "cell_type": "code",
   "execution_count": null,
   "metadata": {},
   "outputs": [],
   "source": [
    "siz = np.array([1, 7, 13, 105])\n",
    "print(siz.size * siz.itemsize, \"Bytes\")   "
   ]
  },
  {
   "cell_type": "code",
   "execution_count": null,
   "metadata": {},
   "outputs": [],
   "source": [
    "# Create an array of 10 zeros 10 ones and 10 fives\n",
    "\n",
    "ze = np.zeros(10,dtype=int)\n",
    "on = np.ones(10, dtype=int)\n",
    "fv = np.ones(10, dtype=int)* 5\n",
    "print(ze,\"\\n\",on,\"\\n\",fv)"
   ]
  },
  {
   "cell_type": "code",
   "execution_count": null,
   "metadata": {},
   "outputs": [],
   "source": [
    "# Write a NumPy program to create an array of integers from 30 to 70.\n",
    "print(np.arange(30, 71,dtype=int))\n"
   ]
  },
  {
   "cell_type": "code",
   "execution_count": null,
   "metadata": {},
   "outputs": [],
   "source": [
    "# Write a NumPy program to create an array of all even integers from 30 to 70.\n",
    "print(np.arange(30,71,2, dtype=int))"
   ]
  },
  {
   "cell_type": "code",
   "execution_count": null,
   "metadata": {},
   "outputs": [],
   "source": [
    "# Write a NumPy program to create a 3x3 identity matrix.\n",
    "\n",
    "print(np.identity(3, dtype=int))"
   ]
  },
  {
   "cell_type": "code",
   "execution_count": null,
   "metadata": {},
   "outputs": [],
   "source": [
    "# Write a NumPy program to generate a random number between 0 and 1.\n",
    "\n",
    "print(np.random.normal(0,1,1))"
   ]
  },
  {
   "cell_type": "code",
   "execution_count": null,
   "metadata": {},
   "outputs": [],
   "source": [
    "# Write a NumPy program to generate an array of 15 random numbers from a standard normal distribution.\n",
    "\n",
    "print(np.random.standard_normal(15))"
   ]
  },
  {
   "cell_type": "code",
   "execution_count": null,
   "metadata": {},
   "outputs": [],
   "source": [
    "# Write a NumPy program to create a vector with values ranging from 15 to 55 and print all values except the first and last.\n",
    "\n",
    "vec = np.arange(15,56,dtype=int)\n",
    "print(vec[1:-1])"
   ]
  },
  {
   "cell_type": "code",
   "execution_count": null,
   "metadata": {},
   "outputs": [],
   "source": [
    "# Write a NumPy program to create a 3X4 array and iterate over it.\n",
    "from numpy import nditer\n",
    "\n",
    "\n",
    "threeByFour = np.arange(10,22).reshape(3,4)\n",
    "print(threeByFour)\n",
    "for x in nditer(threeByFour):\n",
    "    print(\"Each Element: \",x)"
   ]
  },
  {
   "cell_type": "code",
   "execution_count": null,
   "metadata": {},
   "outputs": [],
   "source": [
    "# Write a NumPy program to create a vector of length 10 with values evenly distributed between 5 and 50.\n",
    "print(np.linspace(10,49,10,dtype=int))"
   ]
  },
  {
   "cell_type": "code",
   "execution_count": null,
   "metadata": {},
   "outputs": [],
   "source": [
    "# Write a NumPy program to create a vector with values from 0 to 20 and change the sign of the numbers in the range from 9 to 15.\n",
    "signVec =np.arange(21,dtype=int)\n",
    "signVec[(signVec>=9) & (signVec <=15)] *= -1\n",
    "print(signVec)"
   ]
  },
  {
   "cell_type": "code",
   "execution_count": null,
   "metadata": {},
   "outputs": [],
   "source": [
    "# Write a NumPy program to create a vector of length 5 filled with arbitrary integers from 0 to 10.\n",
    "\n",
    "print(np.random.randint(0,10,5))\n",
    "print(np.arange(0,20, 4))"
   ]
  },
  {
   "cell_type": "code",
   "execution_count": null,
   "metadata": {},
   "outputs": [],
   "source": [
    "# Write a NumPy program to multiply the values of two given vectors.\n",
    "\n",
    "print(np.array([3,2,6,8,8]) *  np.random.randint(0, 11, 5))"
   ]
  },
  {
   "cell_type": "code",
   "execution_count": null,
   "metadata": {},
   "outputs": [],
   "source": [
    "# Write a NumPy program to create a 3x4 matrix filled with values from 10 to 21.\n",
    "print(np.arange(10,22).reshape(3,4))"
   ]
  },
  {
   "cell_type": "code",
   "execution_count": null,
   "metadata": {},
   "outputs": [],
   "source": [
    "# Write a NumPy program to find the number of rows and columns in a given matrix.\n",
    "print(np.arange(10,22).reshape(3,4).shape)"
   ]
  },
  {
   "cell_type": "code",
   "execution_count": null,
   "metadata": {},
   "outputs": [],
   "source": [
    "# Write a NumPy program to create a 3x3 identity matrix, i.e. the diagonal elements are 1, the rest are 0.\n",
    "\n",
    "print(np.identity(3, dtype=int))\n",
    "print(np.eye(3,dtype=int))"
   ]
  },
  {
   "cell_type": "code",
   "execution_count": null,
   "metadata": {},
   "outputs": [],
   "source": [
    "# Write a NumPy program to create a 10x10 matrix, in which the elements on the borders will be equal to 1, and inside 0.\n",
    "\n",
    "tenByTen =np.ones((10,10),dtype=int) \n",
    "# print(tenByTen)\n",
    "tenByTen[1:-1, 1:-1]=0\n",
    "print(tenByTen)\n"
   ]
  },
  {
   "cell_type": "code",
   "execution_count": null,
   "metadata": {},
   "outputs": [],
   "source": [
    "# Write a NumPy program to create a 5x5 zero matrix with elements on the main diagonal equal to 1, 2, 3, 4, 5.\n",
    "print(np.diag([1,2,3,4,5]))"
   ]
  },
  {
   "cell_type": "code",
   "execution_count": null,
   "metadata": {},
   "outputs": [],
   "source": [
    "# Write a NumPy program to create a 4x4 matrix in which 0 and 1 are staggered, with zeros on the main diagonal.\n",
    "fourByFour = np.zeros((4,4),dtype=int)\n",
    "fourByFour[::2, 1::2]=1\n",
    "fourByFour[1::2,::2]=1\n",
    "print(fourByFour)"
   ]
  },
  {
   "cell_type": "code",
   "execution_count": null,
   "metadata": {},
   "outputs": [],
   "source": [
    "# Write a NumPy program to create a 3x3x3 array filled with arbitrary values.\n",
    "print(np.random.random((3, 3, 3)))"
   ]
  },
  {
   "cell_type": "code",
   "execution_count": null,
   "metadata": {},
   "outputs": [],
   "source": [
    "# Write a NumPy program to compute the sum of all elements, the sum of each column and the sum of each row in a given array.\n",
    "#sum have properties axis=0 for columns and axis=1 for rows\n",
    "print(np.random.random(4).sum())\n",
    "\n",
    "print(np.arange(10,22).reshape(3,4).sum(axis=0))\n",
    "print(np.arange(10,22).reshape(3,4).sum(axis=1))\n"
   ]
  },
  {
   "cell_type": "code",
   "execution_count": null,
   "metadata": {},
   "outputs": [],
   "source": [
    "# Write a NumPy program to compute the inner product of two given vectors.\n",
    "a = np.array([4,5])\n",
    "b = np.array([5,4])\n",
    "\n",
    "# Dot Product or Inner Product or Multiplication = same names\n",
    "print(np.dot(a,b))"
   ]
  },
  {
   "cell_type": "code",
   "execution_count": null,
   "metadata": {},
   "outputs": [],
   "source": [
    "#Write a NumPy program to add a vector to each row of a given matrix.\n",
    "m = np.arange(10,22).reshape(3,4)\n",
    "print(m)\n",
    "v = np.array([1,2,3,4])\n",
    "e = np.empty_like(m)\n",
    "for i in range(3):\n",
    "    print(e[i,:])\n",
    "    print(m[i,:])\n",
    "    e[i,:] = m[i,:]+v\n",
    "print(e)"
   ]
  },
  {
   "cell_type": "code",
   "execution_count": null,
   "metadata": {},
   "outputs": [],
   "source": [
    "# Write a NumPy program to save a given array to a binary file .\n",
    "np.array([1,2,3,4,5,6,7,8,9])\n",
    "# np.save(\"array\", a)\n",
    "# np.load(\"array.npy\")"
   ]
  },
  {
   "cell_type": "code",
   "execution_count": null,
   "metadata": {},
   "outputs": [],
   "source": [
    "# Write a NumPy program to save a given array to a binary file.\n",
    "# np.savez(\"temp\", np.arange(1,11), np.array([1,2,3,4,5]))\n",
    "# with np.load(\"temp.npz\") as data:\n",
    "#     print(data)"
   ]
  },
  {
   "cell_type": "code",
   "execution_count": 145,
   "metadata": {},
   "outputs": [],
   "source": [
    "# Write a NumPy program to save a given array to a text file and load it.\n",
    "# np.savetxt(\"temp.txt\", np.arange(11, dtype=int))\n",
    "# print(np.loadtxt(\"temp.txt\"))"
   ]
  },
  {
   "cell_type": "code",
   "execution_count": null,
   "metadata": {},
   "outputs": [],
   "source": [
    "# Write a NumPy program to convert a given array into bytes, and load it as an array.\n",
    "b = np.arange(10).tobytes()\n",
    "print(b)\n",
    "print(np.frombuffer(b, dtype=int))\n"
   ]
  },
  {
   "cell_type": "code",
   "execution_count": null,
   "metadata": {},
   "outputs": [],
   "source": [
    "# Write a NumPy program to convert a given list into an array, then again convert it into a list. Check initial list and final list are equal or not.\n",
    "li = np.arange(11).tolist()\n",
    "print(li)\n",
    "toArr =np.array(li)\n",
    "print(toArr)\n",
    "\n",
    "print(li==toArr)"
   ]
  },
  {
   "cell_type": "code",
   "execution_count": null,
   "metadata": {},
   "outputs": [],
   "source": [
    "# Write a NumPy program to compute the x and y coordinates for points on a sine curve and plot the points using matplotlib.\n",
    "xCords = np.arange(0,11, 1)\n",
    "yCords = np.cos(xCords)\n",
    "plt.plot(xCords, yCords)\n",
    "plt.show()"
   ]
  },
  {
   "cell_type": "code",
   "execution_count": null,
   "metadata": {},
   "outputs": [],
   "source": [
    "# Write a NumPy program to convert numpy dtypes to native Python types\n",
    "\n",
    "\n",
    "print(type(np.float32(0)))\n",
    "print(type(np.float32(1).item()))\n"
   ]
  },
  {
   "cell_type": "code",
   "execution_count": null,
   "metadata": {},
   "outputs": [],
   "source": [
    "# Write a NumPy program to add elements to a matrix. If an element in the matrix is 0, we will not add the element below this element.\n",
    "def sumOfMatrixElements(m)->  int:\n",
    "    # Converting the input matrix 'm' into a NumPy array 'arr'\n",
    "    arr = np.array(m)\n",
    "    # Initializing a variable 'element_sum' to store the sum of matrix elements\n",
    "    total:int = 0  \n",
    "    \n",
    "    # Looping through rows of the array\n",
    "    for rows in range(len(arr)):\n",
    "        # Looping through columns of the array\n",
    "        for columns in range(len(arr[rows])):\n",
    "            # Checking if the element is 0 and the row index is less than the last row\n",
    "            if arr[rows][columns] == 0 and rows < len(arr)-1:\n",
    "                # Assigning 0 to the element in the next row at the same column index\n",
    "                arr[rows+1][columns] = 0  \n",
    "            \n",
    "            # Adding the current element to the total sum\n",
    "            total += arr[rows][columns]  \n",
    "    \n",
    "    # Returning the sum of matrix elements\n",
    "    return total\n",
    "m = [[1, 1, 0, 2],\n",
    "     [0, 3, 0, 3],\n",
    "     [1, 0, 4, 4]]\n",
    "print(sumOfMatrixElements(m))"
   ]
  },
  {
   "cell_type": "code",
   "execution_count": null,
   "metadata": {},
   "outputs": [],
   "source": [
    "# Write a NumPy program to find missing data in a given array.\n",
    "\n",
    "\n",
    "\n",
    "def findElement(number:int, matrix:np.array)->bool:\n",
    "    arr = np.array(matrix)\n",
    "    for rows in range(len(arr)):\n",
    "        for columns in range(len(arr[rows])):\n",
    "            if np.isnan(number) and np.isnan(arr[rows][columns]):\n",
    "                return True\n",
    "            elif  number == arr[rows][columns]:\n",
    "                return True\n",
    "    return False\n",
    "m = [[1, 1, 0, 2],\n",
    "     [np.nan, 3, 0, 3],\n",
    "     [1, 0, 4, 4]]\n",
    "print(findElement(np.nan, m))"
   ]
  },
  {
   "cell_type": "code",
   "execution_count": null,
   "metadata": {},
   "outputs": [],
   "source": [
    "# Write a NumPy program to check whether two arrays are equal (element wise) or not.\n",
    "# def isEqual(matrixOne:np.array, matrixTwo:np.array)->bool:\n",
    "#     arrOne= np.array(matrixOne)\n",
    "#     arrTwo = np.array(matrixTwo)\n",
    "#     if arrOne.shape != arrTwo.shape:\n",
    "#         return False\n",
    "#     for rows in range(arrOne.shape[0]):\n",
    "#         for column in range(arrOne.shape[1]):\n",
    "#             if np.isnan(arrOne[rows][column])and np.isnan(arrTwo[rows][column]):\n",
    "#                 continue\n",
    "#             if arrOne[rows][column] != arrTwo[column]:\n",
    "#                 return False\n",
    "#     return True\n",
    "\n",
    "\n",
    "m = [[1, 1, 0, 3],\n",
    "     [0, 3, 0, 3],\n",
    "     [1, 0, 4, 4]]\n",
    "n = [[1, 1, 0, 3],\n",
    "     [0, 3, 0, 3],\n",
    "     [1, 0, 4, 4]]\n",
    "print(np.equal(m,n))"
   ]
  },
  {
   "cell_type": "code",
   "execution_count": null,
   "metadata": {},
   "outputs": [],
   "source": [
    "# Write a NumPy program to create a one-dimensional array of single, two and three-digit numbers.\n",
    "\n",
    "print(np.arange(0,10)) # One digit\n",
    "print(np.arange(10,100)) # Two Digit\n",
    "print(np.arange(100,1000))  # Three Digit"
   ]
  },
  {
   "cell_type": "code",
   "execution_count": null,
   "metadata": {},
   "outputs": [],
   "source": [
    "\n",
    "# Write a NumPy program to create a two-dimensional array of a specified format.\n",
    "print(np.arange(1,151).reshape(10,15))"
   ]
  },
  {
   "cell_type": "code",
   "execution_count": null,
   "metadata": {},
   "outputs": [],
   "source": [
    "# Write a NumPy program to create a one-dimensional array of forty pseudo-randomly generated values. Select random numbers from a uniform distribution between 0 and 1.\n",
    "np.random.seed(10)\n",
    "print(np.random.rand(40))"
   ]
  },
  {
   "cell_type": "code",
   "execution_count": null,
   "metadata": {},
   "outputs": [],
   "source": [
    "# Write a NumPy program to create a two-dimensional array with shape (8,5) of random numbers. Select random numbers from a normal distribution (200,7).\n",
    "np.random.seed(20)\n",
    "print(np.cbrt(7)*np.random.randn(10,4)+200)"
   ]
  },
  {
   "cell_type": "code",
   "execution_count": null,
   "metadata": {},
   "outputs": [],
   "source": [
    "# Write a NumPy program to generate a uniform, non-uniform random sample from a given 1-D array with and without replacement.\n",
    "print(np.random.choice(7,5))\n",
    "print(np.random.choice(7,5, replace=False))\n",
    "print(np.random.choice(7, 5, p=[0.1, 0.2, 0, 0.2, 0.4, 0, 0.1]))\n",
    "print(np.random.choice(7, 5, replace=False, p=[0.1, 0.2, 0, 0.2, 0.4, 0, 0.1]))"
   ]
  },
  {
   "cell_type": "code",
   "execution_count": null,
   "metadata": {},
   "outputs": [],
   "source": [
    "# Write a NumPy program to create a 4x4 array with random values. Create an array from the said array swapping first and last rows.\n",
    "\n",
    "m = np.array([[0,0,0,0],[1,1,1,1],[2,2,2,2],[3,3,3,3]])\n",
    "m[[0,-1],:] = m[[-1,0],:]\n",
    "print(m)"
   ]
  },
  {
   "cell_type": "code",
   "execution_count": null,
   "metadata": {},
   "outputs": [],
   "source": [
    "# Write a NumPy program to create a new array of given shape (5,6) and type, filled with zeros.\n",
    "print(np.arange(0,30).reshape(5,6)*0)\n",
    "print(np.zeros(shape=(5,6),dtype=int))"
   ]
  },
  {
   "cell_type": "code",
   "execution_count": null,
   "metadata": {},
   "outputs": [],
   "source": [
    "# Write a NumPy program to sort a given array by row and column in ascending order.\n",
    "nums = np.array([[5.54, 3.38, 7.99],\n",
    "              [3.54, 4.38, 6.99],\n",
    "              [1.54, 2.39, 9.29]])\n",
    "\n",
    "print(np.sort(nums,axis=0))\n"
   ]
  },
  {
   "cell_type": "code",
   "execution_count": null,
   "metadata": {},
   "outputs": [],
   "source": [
    "# Write a NumPy program to extract all numbers from a given array less and greater than a specified number.\n",
    "\n",
    "def extract(arr, number):\n",
    "    print(arr[arr > number])\n",
    "    print(arr[arr < number])\n",
    "nums = np.array([[5.54, 3.38, 7.99],\n",
    "              [3.54, 4.38, 6.99],\n",
    "              [1.54, 2.39, 9.29]])\n",
    "\n",
    "extract(nums, 5)"
   ]
  },
  {
   "cell_type": "code",
   "execution_count": null,
   "metadata": {},
   "outputs": [],
   "source": [
    "# Write a NumPy program to replace all numbers in a given array equal, less and greater than a given number.\n",
    "\n",
    "def replaceAll(arr, number, newNumber):\n",
    "    print(np.where(arr < number, newNumber, arr))\n",
    "    print(np.where(arr == number, newNumber,arr))\n",
    "\n",
    "arr = np.arange(0,10)\n",
    "replaceAll(arr,0,5)"
   ]
  },
  {
   "cell_type": "code",
   "execution_count": null,
   "metadata": {},
   "outputs": [],
   "source": [
    "# Write a NumPy program to create an array of equal shape and data type for a given array.\n",
    "print(np.zeros(shape=3,dtype=int))"
   ]
  },
  {
   "cell_type": "code",
   "execution_count": 87,
   "metadata": {},
   "outputs": [
    {
     "data": {
      "text/plain": [
       "array([[[ 0,  1,  2,  3],\n",
       "        [ 4,  5,  6,  7],\n",
       "        [ 8,  9, 10, 11],\n",
       "        [12, 13, 14, 15],\n",
       "        [16, 17, 18, 19]],\n",
       "\n",
       "       [[20, 21, 22, 23],\n",
       "        [24, 25, 26, 27],\n",
       "        [28, 29, 30, 31],\n",
       "        [32, 33, 34, 35],\n",
       "        [36, 37, 38, 39]],\n",
       "\n",
       "       [[40, 41, 42, 43],\n",
       "        [44, 45, 46, 47],\n",
       "        [48, 49, 50, 51],\n",
       "        [52, 53, 54, 55],\n",
       "        [56, 57, 58, 59]]])"
      ]
     },
     "execution_count": 87,
     "metadata": {},
     "output_type": "execute_result"
    }
   ],
   "source": [
    "# Write a NumPy program to create a three-dimensional array with the shape (3,5,4) and set it to a variable.\n",
    "np.arange(60).reshape(3,5,4)"
   ]
  },
  {
   "cell_type": "code",
   "execution_count": 95,
   "metadata": {},
   "outputs": [
    {
     "name": "stdout",
     "output_type": "stream",
     "text": [
      "[[ 3  2  1  0]\n",
      " [ 7  6  5  4]\n",
      " [11 10  9  8]\n",
      " [15 14 13 12]]\n"
     ]
    }
   ],
   "source": [
    "# Write a NumPy program to create a 4x4 array. Create an array from said array by swapping first and last, second and third columns.\n",
    "\n",
    "arr = np.arange(16).reshape(4,4)\n",
    "arr = arr[:,::-1]\n",
    "print(arr)"
   ]
  },
  {
   "cell_type": "code",
   "execution_count": 97,
   "metadata": {},
   "outputs": [
    {
     "name": "stdout",
     "output_type": "stream",
     "text": [
      "[[[ 5  0  3  2]\n",
      "  [90 91 93 94]\n",
      "  [ 0  1  3  4]\n",
      "  [ 1  2  3  4]]]\n"
     ]
    }
   ],
   "source": [
    "# Write a NumPy program to swap rows and columns of a given array in reverse order\n",
    "nums = np.array([[[1, 2, 3, 4],\n",
    "               [0, 1, 3, 4],\n",
    "               [90, 91, 93, 94],\n",
    "               [5, 0, 3, 2]]])\n",
    "nums =nums[::-1,::-1]\n",
    "print(nums)"
   ]
  },
  {
   "cell_type": "code",
   "execution_count": 101,
   "metadata": {},
   "outputs": [
    {
     "name": "stdout",
     "output_type": "stream",
     "text": [
      "[[[   1    4    9   16]\n",
      "  [   0    1    9   16]\n",
      "  [8100  546 8649 8836]\n",
      "  [  25    0    9    4]]]\n"
     ]
    }
   ],
   "source": [
    "# Write a NumPy program to multiply two given arrays of the same size element-by-element.\n",
    "n= np.array([[[1, 2, 3, 4],\n",
    "               [0, 1, 3, 4],\n",
    "               [90, 91, 93, 94],\n",
    "               [5, 0, 3, 2]]])\n",
    "m =  np.array([[[1, 2, 3, 4],\n",
    "               [0, 1, 3, 4],\n",
    "               [90, 6, 93, 94],\n",
    "               [5, 0, 3, 2]]])\n",
    "print(np.multiply(m,n))"
   ]
  }
 ],
 "metadata": {
  "kernelspec": {
   "display_name": "Python 3",
   "language": "python",
   "name": "python3"
  },
  "language_info": {
   "codemirror_mode": {
    "name": "ipython",
    "version": 3
   },
   "file_extension": ".py",
   "mimetype": "text/x-python",
   "name": "python",
   "nbconvert_exporter": "python",
   "pygments_lexer": "ipython3",
   "version": "3.13.1"
  }
 },
 "nbformat": 4,
 "nbformat_minor": 2
}
