{
 "cells": [
  {
   "cell_type": "markdown",
   "metadata": {},
   "source": [
    "# 100 Numpy Exercises\n",
    "\n",
    "[Source]([Source](https://www.w3resource.com/python-exercises/numpy/index.php))"
   ]
  },
  {
   "cell_type": "code",
   "execution_count": 8,
   "metadata": {},
   "outputs": [],
   "source": [
    "import numpy as np\n",
    "\n",
    "nonZero = np.array([1,2,3,4,5,6,7,8,9,]) # non-zero\n",
    "withOneZero =np.array([0,1,2,3,4,5,6,7,8,9,]) \n",
    "allZero = np.array([0,0,0,0,0,0,0,0])\n",
    "infiniteArray = np.array([np.inf])\n",
    "nanArray = np.array([np.nan])\n",
    "nanWithInfinity = np.array([np.nan, np.inf])\n",
    "numbersNanWithInfinity = np.array([1,2,2,3,np.nan, np.inf,7,8,])\n",
    "negativeInfinity = np.array([8,-np.inf,-7])\n",
    "x = np.array([72, 79, 85, 90, 150, -135, 120, -10, 60, 100])\n",
    "y = np.array([72, 79, 85, 90, 150, -135, 120, -10, 60, 100.000001])"
   ]
  },
  {
   "cell_type": "code",
   "execution_count": null,
   "metadata": {},
   "outputs": [],
   "source": [
    "# Q. Import and Build Info\n",
    "\n",
    "print(np.__version__,\"\\n\",np.show_config())"
   ]
  },
  {
   "cell_type": "code",
   "execution_count": null,
   "metadata": {},
   "outputs": [],
   "source": [
    "# How to get Help for any function\n",
    "print(np.info(np.add)) # for add function"
   ]
  },
  {
   "cell_type": "code",
   "execution_count": null,
   "metadata": {},
   "outputs": [],
   "source": [
    "# How to test if any of the element in the array are zero\n",
    "# all function check if the element in the array are zero even if one is zeo it will return false otherwise true\n",
    "\n",
    "\n",
    "n = np.array([0,0,0,0,1])\n",
    "print(np.all(n))\n",
    "# if even one array is non- zero is return true\n",
    "print(np.any(n))\n"
   ]
  },
  {
   "cell_type": "code",
   "execution_count": null,
   "metadata": {},
   "outputs": [],
   "source": [
    "# Write a NumPy program to test a given array element-wise for finiteness (not infinity or not a number).\n",
    "\n",
    "## return true for the number which have infinite number\n",
    "print(np.isfinite(numbersNanWithInfinity))\n",
    "# same goes for the nan number\n",
    "print(np.isnan(nanArray))\n"
   ]
  },
  {
   "cell_type": "code",
   "execution_count": null,
   "metadata": {},
   "outputs": [],
   "source": [
    "# Check if the any numbers inside the array are positive infinity otr negative infinity\n",
    "print(np.isposinf(nanWithInfinity))\n",
    "print(np.isneginf(negativeInfinity))"
   ]
  },
  {
   "cell_type": "code",
   "execution_count": null,
   "metadata": {},
   "outputs": [],
   "source": [
    "# Complex Number or real Number or Scalar\n",
    "\n",
    "print(np.iscomplex(nonZero))\n",
    "print(np.isreal(withOneZero))\n",
    "print(np.isscalar(nonZero))"
   ]
  },
  {
   "cell_type": "code",
   "execution_count": null,
   "metadata": {},
   "outputs": [],
   "source": [
    "# Two Equal array with and without tolerance (absolute and relative)\n",
    "print(np.allclose([1,2,3,4,5], [1,2,3,4,5]))\n",
    "print(np.allclose([1e10,1e-7], [1.00001e10,1e-8]))\n",
    "print(np.allclose([1e10,1e-8], [1.00001e10,1e-9]))\n",
    "print(np.allclose([1e10,1e-8], [1.0001e10,1e-9]))\n",
    "print(np.allclose([1.0, np.nan], [1.0, np.nan], equal_nan=True)) "
   ]
  },
  {
   "cell_type": "code",
   "execution_count": null,
   "metadata": {},
   "outputs": [],
   "source": [
    "# Element wise equality (greater or equal or less)\n",
    "\n",
    "# first array in greater than second array based on each element\n",
    "print(np.greater([1,2,3,4], [0,1,2,3]))\n",
    "\n",
    "print(np.greater_equal([-1,2,3,4,5], [0,1,2,3,4]))\n",
    "\n",
    "print(np.less([1,2,3,4],[0,1,2,3]))\n",
    "\n",
    "print(np.less_equal([1,2,3],[0,1,2]))\n",
    "\n",
    "print(np.equal([1,2,3,4,5],[1,2,3,4,5]))\n"
   ]
  },
  {
   "cell_type": "code",
   "execution_count": null,
   "metadata": {},
   "outputs": [],
   "source": [
    "siz = np.array([1, 7, 13, 105])\n",
    "print(siz.size * siz.itemsize, \"Bytes\")   "
   ]
  },
  {
   "cell_type": "code",
   "execution_count": null,
   "metadata": {},
   "outputs": [],
   "source": [
    "# Create an array of 10 zeros 10 ones and 10 fives\n",
    "\n",
    "ze = np.zeros(10,dtype=int)\n",
    "on = np.ones(10, dtype=int)\n",
    "fv = np.ones(10, dtype=int)* 5\n",
    "print(ze,\"\\n\",on,\"\\n\",fv)"
   ]
  },
  {
   "cell_type": "code",
   "execution_count": null,
   "metadata": {},
   "outputs": [],
   "source": [
    "# Write a NumPy program to create an array of integers from 30 to 70.\n",
    "print(np.arange(30, 71,dtype=int))\n"
   ]
  },
  {
   "cell_type": "code",
   "execution_count": null,
   "metadata": {},
   "outputs": [],
   "source": [
    "# Write a NumPy program to create an array of all even integers from 30 to 70.\n",
    "print(np.arange(30,71,2, dtype=int))"
   ]
  },
  {
   "cell_type": "code",
   "execution_count": null,
   "metadata": {},
   "outputs": [],
   "source": [
    "# Write a NumPy program to create a 3x3 identity matrix.\n",
    "\n",
    "print(np.identity(3, dtype=int))"
   ]
  },
  {
   "cell_type": "code",
   "execution_count": null,
   "metadata": {},
   "outputs": [],
   "source": [
    "# Write a NumPy program to generate a random number between 0 and 1.\n",
    "\n",
    "print(np.random.normal(0,1,1))"
   ]
  },
  {
   "cell_type": "code",
   "execution_count": null,
   "metadata": {},
   "outputs": [],
   "source": [
    "# Write a NumPy program to generate an array of 15 random numbers from a standard normal distribution.\n",
    "\n",
    "print(np.random.standard_normal(15))"
   ]
  },
  {
   "cell_type": "code",
   "execution_count": null,
   "metadata": {},
   "outputs": [],
   "source": [
    "# Write a NumPy program to create a vector with values ranging from 15 to 55 and print all values except the first and last.\n",
    "\n",
    "vec = np.arange(15,56,dtype=int)\n",
    "print(vec[1:-1])"
   ]
  },
  {
   "cell_type": "code",
   "execution_count": null,
   "metadata": {},
   "outputs": [],
   "source": [
    "# Write a NumPy program to create a 3X4 array and iterate over it.\n",
    "from numpy import nditer\n",
    "\n",
    "\n",
    "threeByFour = np.arange(10,22).reshape(3,4)\n",
    "print(threeByFour)\n",
    "for x in nditer(threeByFour):\n",
    "    print(\"Each Element: \",x)"
   ]
  },
  {
   "cell_type": "code",
   "execution_count": null,
   "metadata": {},
   "outputs": [],
   "source": [
    "# Write a NumPy program to create a vector of length 10 with values evenly distributed between 5 and 50.\n",
    "print(np.linspace(10,49,10,dtype=int))"
   ]
  },
  {
   "cell_type": "code",
   "execution_count": null,
   "metadata": {},
   "outputs": [],
   "source": [
    "# Write a NumPy program to create a vector with values from 0 to 20 and change the sign of the numbers in the range from 9 to 15.\n",
    "signVec =np.arange(21,dtype=int)\n",
    "signVec[(signVec>=9) & (signVec <=15)] *= -1\n",
    "print(signVec)"
   ]
  },
  {
   "cell_type": "code",
   "execution_count": null,
   "metadata": {},
   "outputs": [],
   "source": [
    "# Write a NumPy program to create a vector of length 5 filled with arbitrary integers from 0 to 10.\n",
    "\n",
    "print(np.random.randint(0,10,5))\n",
    "print(np.arange(0,20, 4))"
   ]
  },
  {
   "cell_type": "code",
   "execution_count": null,
   "metadata": {},
   "outputs": [],
   "source": [
    "# Write a NumPy program to multiply the values of two given vectors.\n",
    "\n",
    "print(np.array([3,2,6,8,8]) *  np.random.randint(0, 11, 5))"
   ]
  },
  {
   "cell_type": "code",
   "execution_count": null,
   "metadata": {},
   "outputs": [],
   "source": [
    "# Write a NumPy program to create a 3x4 matrix filled with values from 10 to 21.\n",
    "print(np.arange(10,22).reshape(3,4))"
   ]
  },
  {
   "cell_type": "code",
   "execution_count": null,
   "metadata": {},
   "outputs": [],
   "source": [
    "# Write a NumPy program to find the number of rows and columns in a given matrix.\n",
    "print(np.arange(10,22).reshape(3,4).shape)"
   ]
  },
  {
   "cell_type": "code",
   "execution_count": null,
   "metadata": {},
   "outputs": [],
   "source": [
    "# Write a NumPy program to create a 3x3 identity matrix, i.e. the diagonal elements are 1, the rest are 0.\n",
    "\n",
    "print(np.identity(3, dtype=int))\n",
    "print(np.eye(3,dtype=int))"
   ]
  },
  {
   "cell_type": "code",
   "execution_count": null,
   "metadata": {},
   "outputs": [],
   "source": [
    "# Write a NumPy program to create a 10x10 matrix, in which the elements on the borders will be equal to 1, and inside 0.\n",
    "\n",
    "tenByTen =np.ones((10,10),dtype=int) \n",
    "# print(tenByTen)\n",
    "tenByTen[1:-1, 1:-1]=0\n",
    "print(tenByTen)\n"
   ]
  },
  {
   "cell_type": "code",
   "execution_count": null,
   "metadata": {},
   "outputs": [],
   "source": [
    "# Write a NumPy program to create a 5x5 zero matrix with elements on the main diagonal equal to 1, 2, 3, 4, 5.\n",
    "print(np.diag([1,2,3,4,5]))"
   ]
  },
  {
   "cell_type": "code",
   "execution_count": null,
   "metadata": {},
   "outputs": [],
   "source": [
    "# Write a NumPy program to create a 4x4 matrix in which 0 and 1 are staggered, with zeros on the main diagonal.\n",
    "fourByFour = np.zeros((4,4),dtype=int)\n",
    "fourByFour[::2, 1::2]=1\n",
    "fourByFour[1::2,::2]=1\n",
    "print(fourByFour)"
   ]
  },
  {
   "cell_type": "code",
   "execution_count": null,
   "metadata": {},
   "outputs": [],
   "source": [
    "# Write a NumPy program to create a 3x3x3 array filled with arbitrary values.\n",
    "print(np.random.random((3, 3, 3)))"
   ]
  },
  {
   "cell_type": "code",
   "execution_count": null,
   "metadata": {},
   "outputs": [],
   "source": [
    "# Write a NumPy program to compute the sum of all elements, the sum of each column and the sum of each row in a given array.\n",
    "#sum have properties axis=0 for columns and axis=1 for rows\n",
    "print(np.random.random(4).sum())\n",
    "\n",
    "print(np.arange(10,22).reshape(3,4).sum(axis=0))\n",
    "print(np.arange(10,22).reshape(3,4).sum(axis=1))\n"
   ]
  },
  {
   "cell_type": "code",
   "execution_count": null,
   "metadata": {},
   "outputs": [],
   "source": [
    "# Write a NumPy program to compute the inner product of two given vectors.\n",
    "a = np.array([4,5])\n",
    "b = np.array([5,4])\n",
    "\n",
    "# Dot Product or Inner Product or Multiplication = same names\n",
    "print(np.dot(a,b))"
   ]
  },
  {
   "cell_type": "code",
   "execution_count": null,
   "metadata": {},
   "outputs": [],
   "source": [
    "#Write a NumPy program to add a vector to each row of a given matrix.\n",
    "m = np.arange(10,22).reshape(3,4)\n",
    "print(m)\n",
    "v = np.array([1,2,3,4])\n",
    "e = np.empty_like(m)\n",
    "for i in range(3):\n",
    "    print(e[i,:])\n",
    "    print(m[i,:])\n",
    "    e[i,:] = m[i,:]+v\n",
    "print(e)"
   ]
  },
  {
   "cell_type": "code",
   "execution_count": null,
   "metadata": {},
   "outputs": [],
   "source": [
    "# Write a NumPy program to save a given array to a binary file .\n",
    "np.array([1,2,3,4,5,6,7,8,9])\n",
    "# np.save(\"array\", a)\n",
    "# np.load(\"array.npy\")"
   ]
  },
  {
   "cell_type": "code",
   "execution_count": null,
   "metadata": {},
   "outputs": [],
   "source": [
    "# Write a NumPy program to save a given array to a binary file.\n",
    "# np.savez(\"temp\", np.arange(1,11), np.array([1,2,3,4,5]))\n",
    "# with np.load(\"temp.npz\") as data:\n",
    "#     print(data)"
   ]
  },
  {
   "cell_type": "code",
   "execution_count": 145,
   "metadata": {},
   "outputs": [],
   "source": [
    "# Write a NumPy program to save a given array to a text file and load it.\n",
    "# np.savetxt(\"temp.txt\", np.arange(11, dtype=int))\n",
    "# print(np.loadtxt(\"temp.txt\"))"
   ]
  },
  {
   "cell_type": "code",
   "execution_count": null,
   "metadata": {},
   "outputs": [],
   "source": [
    "# Write a NumPy program to convert a given array into bytes, and load it as an array.\n",
    "b = np.arange(10).tobytes()\n",
    "print(b)\n",
    "print(np.frombuffer(b, dtype=int))\n"
   ]
  },
  {
   "cell_type": "code",
   "execution_count": 156,
   "metadata": {},
   "outputs": [
    {
     "name": "stdout",
     "output_type": "stream",
     "text": [
      "[0, 1, 2, 3, 4, 5, 6, 7, 8, 9, 10]\n",
      "[ 0  1  2  3  4  5  6  7  8  9 10]\n",
      "[ True  True  True  True  True  True  True  True  True  True  True]\n"
     ]
    }
   ],
   "source": [
    "# Write a NumPy program to convert a given list into an array, then again convert it into a list. Check initial list and final list are equal or not.\n",
    "li = np.arange(11).tolist()\n",
    "print(li)\n",
    "toArr =np.array(li)\n",
    "print(toArr)\n",
    "\n",
    "print(li==toArr)"
   ]
  },
  {
   "cell_type": "code",
   "execution_count": null,
   "metadata": {},
   "outputs": [],
   "source": []
  }
 ],
 "metadata": {
  "kernelspec": {
   "display_name": "Python 3",
   "language": "python",
   "name": "python3"
  },
  "language_info": {
   "codemirror_mode": {
    "name": "ipython",
    "version": 3
   },
   "file_extension": ".py",
   "mimetype": "text/x-python",
   "name": "python",
   "nbconvert_exporter": "python",
   "pygments_lexer": "ipython3",
   "version": "3.13.1"
  }
 },
 "nbformat": 4,
 "nbformat_minor": 2
}
